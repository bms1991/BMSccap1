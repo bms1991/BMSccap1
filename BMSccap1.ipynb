{
  "nbformat": 4,
  "nbformat_minor": 0,
  "metadata": {
    "colab": {
      "name": "BMSccap1.ipynb",
      "provenance": [],
      "collapsed_sections": [],
      "authorship_tag": "ABX9TyPQchIBMW8l0wG9NLeIq5U8"
    },
    "kernelspec": {
      "name": "python3",
      "display_name": "Python 3"
    },
    "language_info": {
      "name": "python"
    }
  },
  "cells": [
    {
      "cell_type": "markdown",
      "metadata": {
        "id": "5D1Jaab5IxV7"
      },
      "source": [
        "#First peer graded capstone project.  "
      ]
    },
    {
      "cell_type": "markdown",
      "metadata": {
        "id": "RtfONZGjI_zm"
      },
      "source": [
        "###This notebook will be mainly used for the capstone project."
      ]
    },
    {
      "cell_type": "markdown",
      "metadata": {
        "id": "IJCKRgu0C54g"
      },
      "source": [
        "<p> This is the first peer graded assignment for capstone project which includes importing pandas and numpy packages and to print a statement.</p>"
      ]
    },
    {
      "cell_type": "code",
      "metadata": {
        "id": "RoXEuUQRDNE_"
      },
      "source": [
        "import pandas as pd\n",
        "import numpy as np"
      ],
      "execution_count": 1,
      "outputs": []
    },
    {
      "cell_type": "code",
      "metadata": {
        "colab": {
          "base_uri": "https://localhost:8080/"
        },
        "id": "z3C1UeA3Dy9p",
        "outputId": "c5e8efdc-51ba-48c1-ff19-849f66d34ec4"
      },
      "source": [
        "print(\"Hello Capstone Project Course!\")"
      ],
      "execution_count": 2,
      "outputs": [
        {
          "output_type": "stream",
          "text": [
            "Hello Capstone Project Course!\n"
          ],
          "name": "stdout"
        }
      ]
    }
  ]
}